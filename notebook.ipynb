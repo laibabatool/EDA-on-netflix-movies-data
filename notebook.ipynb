{
 "cells": [
  {
   "cell_type": "markdown",
   "id": "937acf3c-c077-4ca6-8d90-8f6dd4d13c54",
   "metadata": {},
   "source": [
    "<center><img src=\"redpopcorn.jpg\"></center>"
   ]
  },
  {
   "cell_type": "markdown",
   "id": "5962b2cd-17bb-4ec9-b2d5-68537ca26860",
   "metadata": {},
   "source": [
    "**Netflix**! What started in 1997 as a DVD rental service has since exploded into one of the largest entertainment and media companies.\n",
    "\n",
    "Given the large number of movies and series available on the platform, it is a perfect opportunity to flex your exploratory data analysis skills and dive into the entertainment industry.\n",
    "\n",
    "You work for a production company that specializes in nostalgic styles. You want to do some research on movies released in the 1990's. You'll delve into Netflix data and perform exploratory data analysis to better understand this awesome movie decade!\n",
    "\n",
    "You have been supplied with the dataset `netflix_data.csv`, along with the following table detailing the column names and descriptions. Feel free to experiment further after submitting!\n",
    "\n",
    "## The data\n",
    "### **netflix_data.csv**\n",
    "| Column | Description |\n",
    "|--------|-------------|\n",
    "| `show_id` | The ID of the show |\n",
    "| `type` | Type of show |\n",
    "| `title` | Title of the show |\n",
    "| `director` | Director of the show |\n",
    "| `cast` | Cast of the show |\n",
    "| `country` | Country of origin |\n",
    "| `date_added` | Date added to Netflix |\n",
    "| `release_year` | Year of Netflix release |\n",
    "| `duration` | Duration of the show in minutes |\n",
    "| `description` | Description of the show |\n",
    "| `genre` | Show genre |"
   ]
  },
  {
   "cell_type": "markdown",
   "id": "dd7be2b3-db71-4b01-8874-4fb9793e9116",
   "metadata": {},
   "source": [
    "Perform exploratory data analysis on the netflix_data.csv data to understand more about movies from the 1990s decade.\n",
    "\n",
    "*TASKS:*\n",
    "\n",
    "What was the most frequent movie duration in the 1990s? Save an approximate answer as an integer called duration.\n",
    "\n",
    "A movie is considered short if it is less than 90 minutes. Count the number of short action movies \n",
    "released in the 1990s and save this integer as short_movie_count."
   ]
  },
  {
   "cell_type": "code",
   "execution_count": 3,
   "id": "320a3abc-8a36-4b2b-baaf-473325363a4d",
   "metadata": {
    "executionCancelledAt": null,
    "executionTime": 49,
    "lastExecutedAt": 1721080843686,
    "lastExecutedByKernel": "a9d2fea3-2bc0-47ae-ab1a-1402889d14c8",
    "lastScheduledRunId": null,
    "lastSuccessfullyExecutedCode": "# Importing pandas and matplotlib\nimport pandas as pd\nimport matplotlib.pyplot as plt\n\n# Read in the Netflix CSV as a DataFrame\nnetflix_df = pd.read_csv(\"netflix_data.csv\")\nprint(netflix_df)",
    "outputsMetadata": {
     "0": {
      "height": 311,
      "type": "stream"
     }
    }
   },
   "outputs": [
    {
     "data": {
      "text/html": [
       "<div>\n",
       "<style scoped>\n",
       "    .dataframe tbody tr th:only-of-type {\n",
       "        vertical-align: middle;\n",
       "    }\n",
       "\n",
       "    .dataframe tbody tr th {\n",
       "        vertical-align: top;\n",
       "    }\n",
       "\n",
       "    .dataframe thead th {\n",
       "        text-align: right;\n",
       "    }\n",
       "</style>\n",
       "<table border=\"1\" class=\"dataframe\">\n",
       "  <thead>\n",
       "    <tr style=\"text-align: right;\">\n",
       "      <th></th>\n",
       "      <th>show_id</th>\n",
       "      <th>type</th>\n",
       "      <th>title</th>\n",
       "      <th>director</th>\n",
       "      <th>cast</th>\n",
       "      <th>country</th>\n",
       "      <th>date_added</th>\n",
       "      <th>release_year</th>\n",
       "      <th>duration</th>\n",
       "      <th>description</th>\n",
       "      <th>genre</th>\n",
       "    </tr>\n",
       "  </thead>\n",
       "  <tbody>\n",
       "    <tr>\n",
       "      <th>0</th>\n",
       "      <td>s2</td>\n",
       "      <td>Movie</td>\n",
       "      <td>7:19</td>\n",
       "      <td>Jorge Michel Grau</td>\n",
       "      <td>Demián Bichir, Héctor Bonilla, Oscar Serrano, ...</td>\n",
       "      <td>Mexico</td>\n",
       "      <td>December 23, 2016</td>\n",
       "      <td>2016</td>\n",
       "      <td>93</td>\n",
       "      <td>After a devastating earthquake hits Mexico Cit...</td>\n",
       "      <td>Dramas</td>\n",
       "    </tr>\n",
       "    <tr>\n",
       "      <th>1</th>\n",
       "      <td>s3</td>\n",
       "      <td>Movie</td>\n",
       "      <td>23:59</td>\n",
       "      <td>Gilbert Chan</td>\n",
       "      <td>Tedd Chan, Stella Chung, Henley Hii, Lawrence ...</td>\n",
       "      <td>Singapore</td>\n",
       "      <td>December 20, 2018</td>\n",
       "      <td>2011</td>\n",
       "      <td>78</td>\n",
       "      <td>When an army recruit is found dead, his fellow...</td>\n",
       "      <td>Horror Movies</td>\n",
       "    </tr>\n",
       "    <tr>\n",
       "      <th>2</th>\n",
       "      <td>s4</td>\n",
       "      <td>Movie</td>\n",
       "      <td>9</td>\n",
       "      <td>Shane Acker</td>\n",
       "      <td>Elijah Wood, John C. Reilly, Jennifer Connelly...</td>\n",
       "      <td>United States</td>\n",
       "      <td>November 16, 2017</td>\n",
       "      <td>2009</td>\n",
       "      <td>80</td>\n",
       "      <td>In a postapocalyptic world, rag-doll robots hi...</td>\n",
       "      <td>Action</td>\n",
       "    </tr>\n",
       "    <tr>\n",
       "      <th>3</th>\n",
       "      <td>s5</td>\n",
       "      <td>Movie</td>\n",
       "      <td>21</td>\n",
       "      <td>Robert Luketic</td>\n",
       "      <td>Jim Sturgess, Kevin Spacey, Kate Bosworth, Aar...</td>\n",
       "      <td>United States</td>\n",
       "      <td>January 1, 2020</td>\n",
       "      <td>2008</td>\n",
       "      <td>123</td>\n",
       "      <td>A brilliant group of students become card-coun...</td>\n",
       "      <td>Dramas</td>\n",
       "    </tr>\n",
       "    <tr>\n",
       "      <th>4</th>\n",
       "      <td>s6</td>\n",
       "      <td>TV Show</td>\n",
       "      <td>46</td>\n",
       "      <td>Serdar Akar</td>\n",
       "      <td>Erdal Beşikçioğlu, Yasemin Allen, Melis Birkan...</td>\n",
       "      <td>Turkey</td>\n",
       "      <td>July 1, 2017</td>\n",
       "      <td>2016</td>\n",
       "      <td>1</td>\n",
       "      <td>A genetics professor experiments with a treatm...</td>\n",
       "      <td>International TV</td>\n",
       "    </tr>\n",
       "  </tbody>\n",
       "</table>\n",
       "</div>"
      ],
      "text/plain": [
       "  show_id     type  title           director  \\\n",
       "0      s2    Movie   7:19  Jorge Michel Grau   \n",
       "1      s3    Movie  23:59       Gilbert Chan   \n",
       "2      s4    Movie      9        Shane Acker   \n",
       "3      s5    Movie     21     Robert Luketic   \n",
       "4      s6  TV Show     46        Serdar Akar   \n",
       "\n",
       "                                                cast        country  \\\n",
       "0  Demián Bichir, Héctor Bonilla, Oscar Serrano, ...         Mexico   \n",
       "1  Tedd Chan, Stella Chung, Henley Hii, Lawrence ...      Singapore   \n",
       "2  Elijah Wood, John C. Reilly, Jennifer Connelly...  United States   \n",
       "3  Jim Sturgess, Kevin Spacey, Kate Bosworth, Aar...  United States   \n",
       "4  Erdal Beşikçioğlu, Yasemin Allen, Melis Birkan...         Turkey   \n",
       "\n",
       "          date_added  release_year  duration  \\\n",
       "0  December 23, 2016          2016        93   \n",
       "1  December 20, 2018          2011        78   \n",
       "2  November 16, 2017          2009        80   \n",
       "3    January 1, 2020          2008       123   \n",
       "4       July 1, 2017          2016         1   \n",
       "\n",
       "                                         description             genre  \n",
       "0  After a devastating earthquake hits Mexico Cit...            Dramas  \n",
       "1  When an army recruit is found dead, his fellow...     Horror Movies  \n",
       "2  In a postapocalyptic world, rag-doll robots hi...            Action  \n",
       "3  A brilliant group of students become card-coun...            Dramas  \n",
       "4  A genetics professor experiments with a treatm...  International TV  "
      ]
     },
     "execution_count": 3,
     "metadata": {},
     "output_type": "execute_result"
    }
   ],
   "source": [
    "# Importing pandas and matplotlib\n",
    "import pandas as pd\n",
    "import matplotlib.pyplot as plt\n",
    "                     \n",
    "# Read in the Netflix CSV as a DataFrame\n",
    "netflix_df = pd.read_csv(\"netflix_data.csv\")\n",
    "netflix_df.head()"
   ]
  },
  {
   "cell_type": "code",
   "execution_count": 4,
   "id": "72658473-114f-49eb-bd4e-cc03c710834a",
   "metadata": {
    "executionCancelledAt": null,
    "executionTime": 56,
    "lastExecutedAt": 1721080843742,
    "lastExecutedByKernel": "a9d2fea3-2bc0-47ae-ab1a-1402889d14c8",
    "lastScheduledRunId": null,
    "lastSuccessfullyExecutedCode": "# Start coding here! Use as many cells as you like\nnetflix_df.info()",
    "outputsMetadata": {
     "0": {
      "height": 388,
      "type": "stream"
     }
    }
   },
   "outputs": [
    {
     "name": "stdout",
     "output_type": "stream",
     "text": [
      "<class 'pandas.core.frame.DataFrame'>\n",
      "RangeIndex: 4812 entries, 0 to 4811\n",
      "Data columns (total 11 columns):\n",
      " #   Column        Non-Null Count  Dtype \n",
      "---  ------        --------------  ----- \n",
      " 0   show_id       4812 non-null   object\n",
      " 1   type          4812 non-null   object\n",
      " 2   title         4812 non-null   object\n",
      " 3   director      4812 non-null   object\n",
      " 4   cast          4812 non-null   object\n",
      " 5   country       4812 non-null   object\n",
      " 6   date_added    4812 non-null   object\n",
      " 7   release_year  4812 non-null   int64 \n",
      " 8   duration      4812 non-null   int64 \n",
      " 9   description   4812 non-null   object\n",
      " 10  genre         4812 non-null   object\n",
      "dtypes: int64(2), object(9)\n",
      "memory usage: 413.7+ KB\n"
     ]
    }
   ],
   "source": [
    "# Start coding here! Use as many cells as you like\n",
    "netflix_df.info()"
   ]
  },
  {
   "cell_type": "code",
   "execution_count": 5,
   "id": "35356d44-40c0-46b2-9cb7-7eadd7683139",
   "metadata": {
    "executionCancelledAt": null,
    "executionTime": 48,
    "lastExecutedAt": 1721080843790,
    "lastExecutedByKernel": "a9d2fea3-2bc0-47ae-ab1a-1402889d14c8",
    "lastScheduledRunId": null,
    "lastSuccessfullyExecutedCode": "m = netflix_df[netflix_df['type']=='Movie']\nprint(m)",
    "outputsMetadata": {
     "0": {
      "height": 311,
      "type": "stream"
     }
    }
   },
   "outputs": [],
   "source": [
    "m = netflix_df[netflix_df['type']=='Movie']\n"
   ]
  },
  {
   "cell_type": "code",
   "execution_count": 6,
   "id": "bf38599d-f270-41e1-8e95-a2ab22583dde",
   "metadata": {
    "executionCancelledAt": null,
    "executionTime": 48,
    "lastExecutedAt": 1721080843838,
    "lastExecutedByKernel": "a9d2fea3-2bc0-47ae-ab1a-1402889d14c8",
    "lastScheduledRunId": null,
    "lastSuccessfullyExecutedCode": "movies= m[m['release_year'] >= 1990]\nprint(movies)",
    "outputsMetadata": {
     "0": {
      "height": 311,
      "type": "stream"
     }
    }
   },
   "outputs": [
    {
     "name": "stdout",
     "output_type": "stream",
     "text": [
      "     show_id   type       title           director  \\\n",
      "0         s2  Movie        7:19  Jorge Michel Grau   \n",
      "1         s3  Movie       23:59       Gilbert Chan   \n",
      "2         s4  Movie           9        Shane Acker   \n",
      "3         s5  Movie          21     Robert Luketic   \n",
      "5         s7  Movie         122    Yasir Al Yasiri   \n",
      "...      ...    ...         ...                ...   \n",
      "4807   s7779  Movie  Zombieland    Ruben Fleischer   \n",
      "4808   s7781  Movie         Zoo       Shlok Sharma   \n",
      "4809   s7782  Movie        Zoom       Peter Hewitt   \n",
      "4810   s7783  Movie        Zozo        Josef Fares   \n",
      "4811   s7784  Movie      Zubaan        Mozez Singh   \n",
      "\n",
      "                                                   cast        country  \\\n",
      "0     Demián Bichir, Héctor Bonilla, Oscar Serrano, ...         Mexico   \n",
      "1     Tedd Chan, Stella Chung, Henley Hii, Lawrence ...      Singapore   \n",
      "2     Elijah Wood, John C. Reilly, Jennifer Connelly...  United States   \n",
      "3     Jim Sturgess, Kevin Spacey, Kate Bosworth, Aar...  United States   \n",
      "5     Amina Khalil, Ahmed Dawood, Tarek Lotfy, Ahmed...          Egypt   \n",
      "...                                                 ...            ...   \n",
      "4807  Jesse Eisenberg, Woody Harrelson, Emma Stone, ...  United States   \n",
      "4808  Shashank Arora, Shweta Tripathi, Rahul Kumar, ...          India   \n",
      "4809  Tim Allen, Courteney Cox, Chevy Chase, Kate Ma...  United States   \n",
      "4810  Imad Creidi, Antoinette Turk, Elias Gergi, Car...         Sweden   \n",
      "4811  Vicky Kaushal, Sarah-Jane Dias, Raaghav Chanan...          India   \n",
      "\n",
      "             date_added  release_year  duration  \\\n",
      "0     December 23, 2016          2016        93   \n",
      "1     December 20, 2018          2011        78   \n",
      "2     November 16, 2017          2009        80   \n",
      "3       January 1, 2020          2008       123   \n",
      "5          June 1, 2020          2019        95   \n",
      "...                 ...           ...       ...   \n",
      "4807   November 1, 2019          2009        88   \n",
      "4808       July 1, 2018          2018        94   \n",
      "4809   January 11, 2020          2006        88   \n",
      "4810   October 19, 2020          2005        99   \n",
      "4811      March 2, 2019          2015       111   \n",
      "\n",
      "                                            description          genre  \n",
      "0     After a devastating earthquake hits Mexico Cit...         Dramas  \n",
      "1     When an army recruit is found dead, his fellow...  Horror Movies  \n",
      "2     In a postapocalyptic world, rag-doll robots hi...         Action  \n",
      "3     A brilliant group of students become card-coun...         Dramas  \n",
      "5     After an awful accident, a couple admitted to ...  Horror Movies  \n",
      "...                                                 ...            ...  \n",
      "4807  Looking to survive in a world taken over by zo...       Comedies  \n",
      "4808  A drug dealer starts having doubts about his t...         Dramas  \n",
      "4809  Dragged from civilian life, a former superhero...       Children  \n",
      "4810  When Lebanon's Civil War deprives Zozo of his ...         Dramas  \n",
      "4811  A scrappy but poor boy worms his way into a ty...         Dramas  \n",
      "\n",
      "[4486 rows x 11 columns]\n"
     ]
    }
   ],
   "source": [
    "movies= m[m['release_year'] >= 1990]\n",
    "print(movies)"
   ]
  },
  {
   "cell_type": "code",
   "execution_count": 7,
   "id": "cde71f28-2fae-40db-ad62-a67352410450",
   "metadata": {
    "executionCancelledAt": null,
    "executionTime": 52,
    "lastExecutedAt": 1721080843890,
    "lastExecutedByKernel": "a9d2fea3-2bc0-47ae-ab1a-1402889d14c8",
    "lastScheduledRunId": null,
    "lastSuccessfullyExecutedCode": "movies_df = movies[movies['release_year']<2000]\nprint(movies_df)",
    "outputsMetadata": {
     "0": {
      "height": 311,
      "type": "stream"
     }
    }
   },
   "outputs": [
    {
     "name": "stdout",
     "output_type": "stream",
     "text": [
      "     show_id   type                            title            director  \\\n",
      "6         s8  Movie                              187      Kevin Reynolds   \n",
      "118     s167  Movie                A Dangerous Woman  Stephen Gyllenhaal   \n",
      "145     s211  Movie           A Night at the Roxbury    John Fortenberry   \n",
      "167     s239  Movie  A Thin Line Between Love & Hate     Martin Lawrence   \n",
      "194     s274  Movie                     Aashik Awara         Umesh Mehra   \n",
      "...      ...    ...                              ...                 ...   \n",
      "4672   s7536  Movie                      West Beirut        Ziad Doueiri   \n",
      "4689   s7571  Movie      What's Eating Gilbert Grape     Lasse Hallström   \n",
      "4718   s7624  Movie                   Wild Wild West    Barry Sonnenfeld   \n",
      "4746   s7682  Movie                       Wyatt Earp     Lawrence Kasdan   \n",
      "4756   s7695  Movie                      Yaar Gaddar         Umesh Mehra   \n",
      "\n",
      "                                                   cast        country  \\\n",
      "6     Samuel L. Jackson, John Heard, Kelly Rowan, Cl...  United States   \n",
      "118   Debra Winger, Barbara Hershey, Gabriel Byrne, ...  United States   \n",
      "145   Will Ferrell, Chris Kattan, Dan Hedaya, Molly ...  United States   \n",
      "167   Martin Lawrence, Lynn Whitfield, Regina King, ...  United States   \n",
      "194   Saif Ali Khan, Mamta Kulkarni, Mohnish Bahl, S...          India   \n",
      "...                                                 ...            ...   \n",
      "4672  Rami Doueiri, Mohamad Chamas, Rola Al Amin, Ca...         France   \n",
      "4689  Johnny Depp, Leonardo DiCaprio, Juliette Lewis...  United States   \n",
      "4718  Will Smith, Kevin Kline, Kenneth Branagh, Salm...  United States   \n",
      "4746  Kevin Costner, Dennis Quaid, Gene Hackman, Dav...  United States   \n",
      "4756  Mithun Chakraborty, Saif Ali Khan, Somy Ali, P...          India   \n",
      "\n",
      "            date_added  release_year  duration  \\\n",
      "6     November 1, 2019          1997       119   \n",
      "118      April 1, 2018          1993       101   \n",
      "145   December 1, 2019          1998        82   \n",
      "167   December 1, 2020          1996       108   \n",
      "194       June 1, 2017          1993       154   \n",
      "...                ...           ...       ...   \n",
      "4672  October 19, 2020          1999       106   \n",
      "4689   January 1, 2021          1993       118   \n",
      "4718   January 1, 2020          1999       106   \n",
      "4746   January 1, 2020          1994       191   \n",
      "4756      July 1, 2017          1994       148   \n",
      "\n",
      "                                            description           genre  \n",
      "6     After one of his high school students attacks ...          Dramas  \n",
      "118   At the center of this engrossing melodrama is ...          Dramas  \n",
      "145   After a run-in with Richard Grieco, dimwits Do...        Comedies  \n",
      "167   When a philandering club promoter sets out to ...        Comedies  \n",
      "194   Raised by a kindly thief, orphaned Jimmy goes ...          Dramas  \n",
      "...                                                 ...             ...  \n",
      "4672  Three intrepid teens roam the streets of Beiru...          Dramas  \n",
      "4689  In a backwater Iowa town, young Gilbert is tor...  Classic Movies  \n",
      "4718  Armed with an ingenious arsenal, two top-notch...          Action  \n",
      "4746  Legendary lawman Wyatt Earp is continually at ...          Action  \n",
      "4756  When his brother becomes involved in a deadly ...          Dramas  \n",
      "\n",
      "[183 rows x 11 columns]\n"
     ]
    }
   ],
   "source": [
    "movies_df = movies[movies['release_year']<2000]\n",
    "print(movies_df)"
   ]
  },
  {
   "cell_type": "code",
   "execution_count": 8,
   "id": "6c671bca-1692-40ff-b2c7-fd77f34ce993",
   "metadata": {
    "executionCancelledAt": null,
    "executionTime": 52,
    "lastExecutedAt": 1721080843942,
    "lastExecutedByKernel": "a9d2fea3-2bc0-47ae-ab1a-1402889d14c8",
    "lastScheduledRunId": null,
    "lastSuccessfullyExecutedCode": "print(movies_df.iloc[5])",
    "outputsMetadata": {
     "0": {
      "height": 269,
      "type": "stream"
     }
    }
   },
   "outputs": [
    {
     "name": "stdout",
     "output_type": "stream",
     "text": [
      "show_id                                                      s344\n",
      "type                                                        Movie\n",
      "title                                                   Agneepath\n",
      "director                                              Mukul Anand\n",
      "cast            Amitabh Bachchan, Mithun Chakraborty, Danny De...\n",
      "country                                                     India\n",
      "date_added                                          April 1, 2020\n",
      "release_year                                                 1990\n",
      "duration                                                      174\n",
      "description     A boy grows up to become a gangster in pursuit...\n",
      "genre                                                      Dramas\n",
      "Name: 240, dtype: object\n"
     ]
    }
   ],
   "source": [
    "print(movies_df.iloc[5])"
   ]
  },
  {
   "cell_type": "code",
   "execution_count": 9,
   "id": "0cd61f41-9975-4092-9f56-22f1eb2cd5c7",
   "metadata": {
    "executionCancelledAt": null,
    "executionTime": 220,
    "lastExecutedAt": 1721080844162,
    "lastExecutedByKernel": "a9d2fea3-2bc0-47ae-ab1a-1402889d14c8",
    "lastScheduledRunId": null,
    "lastSuccessfullyExecutedCode": "plt.hist(movies_df['duration'])"
   },
   "outputs": [
    {
     "data": {
      "text/plain": [
       "(array([ 3.,  4.,  9., 34., 47., 33., 16., 14., 17.,  6.]),\n",
       " array([ 28. ,  44.7,  61.4,  78.1,  94.8, 111.5, 128.2, 144.9, 161.6,\n",
       "        178.3, 195. ]),\n",
       " <BarContainer object of 10 artists>)"
      ]
     },
     "execution_count": 9,
     "metadata": {},
     "output_type": "execute_result"
    },
    {
     "data": {
      "image/png": "[encoded data removed]",
      "text/plain": [
       "<Figure size 640x480 with 1 Axes>"
      ]
     },
     "metadata": {},
     "output_type": "display_data"
    }
   ],
   "source": [
    "plt.hist(movies_df['duration'])"
   ]
  },
  {
   "cell_type": "code",
   "execution_count": null,
   "id": "4672957f-2311-4dca-8a21-6e5df5dc9306",
   "metadata": {
    "executionCancelledAt": null,
    "executionTime": 48,
    "lastExecutedAt": 1721080844210,
    "lastExecutedByKernel": "a9d2fea3-2bc0-47ae-ab1a-1402889d14c8",
    "lastScheduledRunId": null,
    "lastSuccessfullyExecutedCode": "duration = 100"
   },
   "outputs": [],
   "source": [
    "duration = 100"
   ]
  },
  {
   "cell_type": "code",
   "execution_count": 10,
   "id": "0ff4b621-676c-4036-b166-0c954c8c6ae3",
   "metadata": {
    "executionCancelledAt": null,
    "executionTime": 64,
    "lastExecutedAt": 1721080844274,
    "lastExecutedByKernel": "a9d2fea3-2bc0-47ae-ab1a-1402889d14c8",
    "lastScheduledRunId": null,
    "lastSuccessfullyExecutedCode": "action_movies = movies_df[movies_df['genre']=='Action']\nprint(action_movies)",
    "outputsMetadata": {
     "0": {
      "height": 388,
      "type": "stream"
     }
    }
   },
   "outputs": [
    {
     "name": "stdout",
     "output_type": "stream",
     "text": [
      "     show_id   type                                  title  \\\n",
      "352     s508  Movie                        Andaz Apna Apna   \n",
      "431     s628  Movie  Austin Powers: The Spy Who Shagged Me   \n",
      "468     s688  Movie                               Bad Boys   \n",
      "515     s757  Movie                                Barsaat   \n",
      "675    s1003  Movie                            Blue Streak   \n",
      "815    s1236  Movie                          Casino Tycoon   \n",
      "816    s1237  Movie                        Casino Tycoon 2   \n",
      "1018   s1605  Movie                           Dante's Peak   \n",
      "1179   s1850  Movie                            Dragonheart   \n",
      "1288   s2039  Movie              EVANGELION: DEATH (TRUE)²   \n",
      "1299   s2060  Movie                     Executive Decision   \n",
      "1504   s2394  Movie                                 Ghayal   \n",
      "1515   s2408  Movie                      Ghulam-E-Musthafa   \n",
      "1548   s2466  Movie                              GoldenEye   \n",
      "1599   s2551  Movie                                 Gumrah   \n",
      "1661   s2644  Movie                   Haseena Maan Jaayegi   \n",
      "1688   s2693  Movie                          Hello Brother   \n",
      "1698   s2708  Movie                                   Hero   \n",
      "2050   s3256  Movie                      Justice, My Foot!   \n",
      "2124   s3354  Movie                              Khalnayak   \n",
      "2282   s3636  Movie                               Lifeline   \n",
      "2313   s3696  Movie    Lock, Stock and Two Smoking Barrels   \n",
      "2328   s3718  Movie                      Look Out, Officer   \n",
      "2356   s3772  Movie                       Love on Delivery   \n",
      "2521   s4032  Movie                           Men in Black   \n",
      "2616   s4178  Movie                            Money Talks   \n",
      "2867   s4584  Movie               Oh Darling Yeh Hai India   \n",
      "2993   s4787  Movie                           Passenger 57   \n",
      "2997   s4795  Movie                          Patriot Games   \n",
      "3135   s5043  Movie                     Quigley Down Under   \n",
      "3297   s5299  Movie                    Rumble in the Bronx   \n",
      "3483   s5571  Movie                                  Shiva   \n",
      "3546   s5674  Movie                         Small Soldiers   \n",
      "3806   s6114  Movie                    The Bare-Footed Kid   \n",
      "3895   s6254  Movie                               The Crow   \n",
      "3943   s6330  Movie                  The End of Evangelion   \n",
      "4076   s6553  Movie                     The Last Boy Scout   \n",
      "4136   s6645  Movie                      The Mask of Zorro   \n",
      "4140   s6649  Movie                             The Matrix   \n",
      "4168   s6706  Movie                    The Next Karate Kid   \n",
      "4193   s6745  Movie                         The Peacemaker   \n",
      "4245   s6829  Movie                         The River Wild   \n",
      "4361   s7016  Movie                The World Is Not Enough   \n",
      "4445   s7143  Movie                    Tomorrow Never Dies   \n",
      "4456   s7163  Movie                           Total Recall   \n",
      "4490   s7224  Movie                               Trimurti   \n",
      "4718   s7624  Movie                         Wild Wild West   \n",
      "4746   s7682  Movie                             Wyatt Earp   \n",
      "\n",
      "                             director  \\\n",
      "352                 Rajkumar Santoshi   \n",
      "431                         Jay Roach   \n",
      "468                       Michael Bay   \n",
      "515                 Rajkumar Santoshi   \n",
      "675                      Les Mayfield   \n",
      "815                         Wong Jing   \n",
      "816                         Wong Jing   \n",
      "1018                  Roger Donaldson   \n",
      "1179                        Rob Cohen   \n",
      "1288                     Hideaki Anno   \n",
      "1299                     Stuart Baird   \n",
      "1504                Rajkumar Santoshi   \n",
      "1515                     Partho Ghosh   \n",
      "1548                  Martin Campbell   \n",
      "1599                     Mahesh Bhatt   \n",
      "1661                     David Dhawan   \n",
      "1688                      Sohail Khan   \n",
      "1698                       Corey Yuen   \n",
      "2050                       Johnnie To   \n",
      "2124                     Subhash Ghai   \n",
      "2282                       Johnnie To   \n",
      "2313                      Guy Ritchie   \n",
      "2328                       Sze Yu Lau   \n",
      "2356                     Stephen Chow   \n",
      "2521                 Barry Sonnenfeld   \n",
      "2616                     Brett Ratner   \n",
      "2867                      Ketan Mehta   \n",
      "2993                      Kevin Hooks   \n",
      "2997                    Phillip Noyce   \n",
      "3135                     Simon Wincer   \n",
      "3297                     Stanley Tong   \n",
      "3483                  Ram Gopal Varma   \n",
      "3546                        Joe Dante   \n",
      "3806                       Johnnie To   \n",
      "3895                      Alex Proyas   \n",
      "3943   Hideaki Anno, Kazuya Tsurumaki   \n",
      "4076                       Tony Scott   \n",
      "4136                  Martin Campbell   \n",
      "4140  Lilly Wachowski, Lana Wachowski   \n",
      "4168                 Christopher Cain   \n",
      "4193                       Mimi Leder   \n",
      "4245                    Curtis Hanson   \n",
      "4361                    Michael Apted   \n",
      "4445               Roger Spottiswoode   \n",
      "4456                   Paul Verhoeven   \n",
      "4490                      Mukul Anand   \n",
      "4718                 Barry Sonnenfeld   \n",
      "4746                  Lawrence Kasdan   \n",
      "\n",
      "                                                   cast         country  \\\n",
      "352   Aamir Khan, Salman Khan, Raveena Tandon, Karis...           India   \n",
      "431   Mike Myers, Heather Graham, Michael York, Robe...   United States   \n",
      "468   Will Smith, Martin Lawrence, Téa Leoni, Tchéky...   United States   \n",
      "515   Twinkle Khanna, Bobby Deol, Danny Denzongpa, R...           India   \n",
      "675   Martin Lawrence, Luke Wilson, Peter Greene, Da...         Germany   \n",
      "815                                           Wong Jing       Hong Kong   \n",
      "816                                         Dennis Chan       Hong Kong   \n",
      "1018  Pierce Brosnan, Linda Hamilton, Elizabeth Hoff...   United States   \n",
      "1179  Sean Connery, Dennis Quaid, David Thewlis, Pet...   United States   \n",
      "1288  Megumi Ogata, Kotono Mitsuishi, Megumi Hayashi...           Japan   \n",
      "1299  Kurt Russell, Halle Berry, John Leguizamo, Oli...   United States   \n",
      "1504  Sunny Deol, Meenakshi Sheshadri, Amrish Puri, ...           India   \n",
      "1515  Nana Patekar, Raveena Tandon, Paresh Rawal, Ar...           India   \n",
      "1548  Pierce Brosnan, Sean Bean, Izabella Scorupco, ...  United Kingdom   \n",
      "1599  Sanjay Dutt, Sridevi, Anupam Kher, Rahul Roy, ...           India   \n",
      "1661  Sanjay Dutt, Govinda, Karisma Kapoor, Pooja Ba...           India   \n",
      "1688  Salman Khan, Arbaaz Khan, Rani Mukerji, Johny ...           India   \n",
      "1698  Takeshi Kaneshiro, Yuen Biao, Valerie Chow, Je...       Hong Kong   \n",
      "2050  Stephen Chow, Anita Mui, Carrie Ng, Wai Ai, Be...       Hong Kong   \n",
      "2124  Sanjay Dutt, Madhuri Dixit, Jackie Shroff, Anu...           India   \n",
      "2282  Lau Ching Wan, Alex Fong, Carman Lee, Ruby Won...       Hong Kong   \n",
      "2313  Jason Flemyng, Dexter Fletcher, Nick Moran, Ja...  United Kingdom   \n",
      "2328  Stephen Chow, Bill Tung, Stanley Sui-Fan Fung,...       Hong Kong   \n",
      "2356            Stephen Chow, Christy Chung, Ng Man-Tat       Hong Kong   \n",
      "2521  Tommy Lee Jones, Will Smith, Linda Fiorentino,...   United States   \n",
      "2616  Charlie Sheen, Chris Tucker, Heather Locklear,...   United States   \n",
      "2867  Shah Rukh Khan, Deepa Sahi, Javed Jaffrey, Anu...           India   \n",
      "2993  Wesley Snipes, Bruce Payne, Tom Sizemore, Alex...   United States   \n",
      "2997  Harrison Ford, Anne Archer, Patrick Bergin, Se...   United States   \n",
      "3135  Tom Selleck, Laura San Giacomo, Alan Rickman, ...       Australia   \n",
      "3297  Jackie Chan, Anita Mui, Françoise Yip, Bill Tu...       Hong Kong   \n",
      "3483  Nagarjuna Akkineni, Amala, Rajendranath Zutshi...           India   \n",
      "3546  Kirsten Dunst, Gregory Smith, Jay Mohr, Phil H...   United States   \n",
      "3806  Aaron Kwok, Lung Ti, Maggie Cheung, Chien-lien...       Hong Kong   \n",
      "3895  Brandon Lee, Rochelle Davis, Ernie Hudson, Mic...   United States   \n",
      "3943  Megumi Ogata, Kotono Mitsuishi, Megumi Hayashi...           Japan   \n",
      "4076  Bruce Willis, Damon Wayans, Chelsea Field, Nob...   United States   \n",
      "4136  Antonio Banderas, Anthony Hopkins, Catherine Z...   United States   \n",
      "4140  Keanu Reeves, Laurence Fishburne, Carrie-Anne ...   United States   \n",
      "4168  Pat Morita, Hilary Swank, Michael Ironside, Co...   United States   \n",
      "4193  George Clooney, Nicole Kidman, Marcel Iures, A...   United States   \n",
      "4245  Meryl Streep, Kevin Bacon, David Strathairn, J...   United States   \n",
      "4361  Pierce Brosnan, Sophie Marceau, Robert Carlyle...  United Kingdom   \n",
      "4445  Pierce Brosnan, Jonathan Pryce, Michelle Yeoh,...  United Kingdom   \n",
      "4456  Arnold Schwarzenegger, Rachel Ticotin, Sharon ...   United States   \n",
      "4490  Anil Kapoor, Shah Rukh Khan, Jackie Shroff, Sa...           India   \n",
      "4718  Will Smith, Kevin Kline, Kenneth Branagh, Salm...   United States   \n",
      "4746  Kevin Costner, Dennis Quaid, Gene Hackman, Dav...   United States   \n",
      "\n",
      "             date_added  release_year  duration  \\\n",
      "352        May 11, 2020          1994       160   \n",
      "431    December 1, 2019          1999        95   \n",
      "468     October 1, 2019          1995       119   \n",
      "515       April 1, 2018          1995       166   \n",
      "675     January 1, 2021          1999        94   \n",
      "815      August 1, 2018          1992       125   \n",
      "816     August 16, 2018          1992       108   \n",
      "1018  September 1, 2019          1997       108   \n",
      "1179    January 1, 2020          1996       103   \n",
      "1288      June 21, 2019          1998        69   \n",
      "1299   November 1, 2019          1996       133   \n",
      "1504  December 31, 2019          1990       163   \n",
      "1515  December 31, 2019          1997       161   \n",
      "1548  December 31, 2019          1995       130   \n",
      "1599      April 1, 2020          1993       149   \n",
      "1661      March 1, 2018          1999       151   \n",
      "1688    January 4, 2021          1999       126   \n",
      "1698     August 1, 2018          1997        89   \n",
      "2050    August 31, 2018          1992        95   \n",
      "2124      March 1, 2018          1993       170   \n",
      "2282    August 16, 2018          1997       104   \n",
      "2313    January 1, 2019          1998       108   \n",
      "2328    August 16, 2018          1990        88   \n",
      "2356    August 16, 2018          1994        93   \n",
      "2521   October 19, 2019          1997        98   \n",
      "2616   November 1, 2019          1997        96   \n",
      "2867       June 1, 2017          1995       154   \n",
      "2993    January 1, 2021          1992        84   \n",
      "2997    January 1, 2020          1992       117   \n",
      "3135   December 1, 2020          1990       120   \n",
      "3297   November 1, 2019          1995        89   \n",
      "3483  December 31, 2019          1990       168   \n",
      "3546       June 1, 2019          1998       110   \n",
      "3806    August 16, 2018          1993        83   \n",
      "3895    January 1, 2019          1994       102   \n",
      "3943      June 21, 2019          1997        87   \n",
      "4076   November 1, 2019          1991       105   \n",
      "4136    January 1, 2020          1998       138   \n",
      "4140   November 1, 2019          1999       136   \n",
      "4168   November 1, 2020          1994       107   \n",
      "4193    January 1, 2020          1997       124   \n",
      "4245  September 1, 2018          1994       111   \n",
      "4361  December 31, 2019          1999       128   \n",
      "4445  December 31, 2019          1997       119   \n",
      "4456       July 1, 2020          1990       114   \n",
      "4490      March 1, 2018          1995       173   \n",
      "4718    January 1, 2020          1999       106   \n",
      "4746    January 1, 2020          1994       191   \n",
      "\n",
      "                                            description   genre  \n",
      "352   Broke and with no concrete plans for the futur...  Action  \n",
      "431   When diabolical genius Dr. Evil travels back i...  Action  \n",
      "468   In this fast-paced actioner, two Miami narcoti...  Action  \n",
      "515   A naïve young man and a rich city girl fall in...  Action  \n",
      "675   A jewel thief returns to his hiding place afte...  Action  \n",
      "815   When Japanese troops invade Hong Kong, young B...  Action  \n",
      "816   Casino mogul Benny Ho wields enormous power. B...  Action  \n",
      "1018  When a volcanologist comes to investigate the ...  Action  \n",
      "1179  In ancient times when majestic fire-breathers ...  Action  \n",
      "1288  Fifteen years after the Second Impact, apathet...  Action  \n",
      "1299  When terrorists hijack a 747 and turn it into ...  Action  \n",
      "1504  Framed for his older brother's murder, a boxer...  Action  \n",
      "1515  Giving up his life of crime for love, a gangst...  Action  \n",
      "1548  Pierce Brosnan takes his first turn as debonai...  Action  \n",
      "1599  Jailed for drug trafficking while searching fo...  Action  \n",
      "1661  A millionaire opens the door to comic complica...  Action  \n",
      "1688  After receiving a heart transplant from a murd...  Action  \n",
      "1698  A pugilist from Shantung struggles to rise to ...  Action  \n",
      "2050  Slick lawyer Sung fears he's been cursed with ...  Action  \n",
      "2124  A prison guard goes undercover as a dancer to ...  Action  \n",
      "2282  Johnnie To's character-centered drama follows ...  Action  \n",
      "2313  Hoping to make a bundle in a high-stakes poker...  Action  \n",
      "2328  An officer killed on the job returns to Earth ...  Action  \n",
      "2356  To prove himself to a love interest, a deliver...  Action  \n",
      "2521  A streetwise cop teams with a veteran governme...  Action  \n",
      "2616  TV news reporter James Russell helps put small...  Action  \n",
      "2867  A penniless actor new to Mumbai and a beautifu...  Action  \n",
      "2993  Air marshal John Cutter must stop notorious te...  Action  \n",
      "2997  CIA desk jockey Jack Ryan plunges into the hea...  Action  \n",
      "3135  After traveling to Australia for a job, a shar...  Action  \n",
      "3297  During a visit to the Bronx to help out at his...  Action  \n",
      "3483  A young man enrolls at a college and becomes a...  Action  \n",
      "3546  When the Commando Elite, a group of toy action...  Action  \n",
      "3806  While working at a family friend's business, a...  Action  \n",
      "3895  One year after Eric Draven and his fiancée are...  Action  \n",
      "3943  Seele orders an all-out attack on NERV, aiming...  Action  \n",
      "4076  Private eye Joe Hallenbeck is forced to team u...  Action  \n",
      "4136  An aging Zorro passes the torch to a young suc...  Action  \n",
      "4140  A computer hacker learns that what most people...  Action  \n",
      "4168  In Boston, karate master Mr. Miyagi finds a ne...  Action  \n",
      "4193  After terrorists trigger a nuclear blast in Ru...  Action  \n",
      "4245  A turbulent vacation turns deadly when a fugit...  Action  \n",
      "4361  Greed, revenge, world domination: It's all in ...  Action  \n",
      "4445  Pierce Brosnan stars in this 007 installment, ...  Action  \n",
      "4456  After getting a memory implant, working stiff ...  Action  \n",
      "4490  After being framed, a policewoman languishing ...  Action  \n",
      "4718  Armed with an ingenious arsenal, two top-notch...  Action  \n",
      "4746  Legendary lawman Wyatt Earp is continually at ...  Action  \n"
     ]
    }
   ],
   "source": [
    "action_movies = movies_df[movies_df['genre']=='Action']\n",
    "print(action_movies)"
   ]
  },
  {
   "cell_type": "code",
   "execution_count": null,
   "id": "e2e717d6-7be8-4b75-907c-12d6e06ee0f9",
   "metadata": {
    "executionCancelledAt": null,
    "executionTime": 55,
    "lastExecutedAt": 1721080844329,
    "lastExecutedByKernel": "a9d2fea3-2bc0-47ae-ab1a-1402889d14c8",
    "lastScheduledRunId": null,
    "lastSuccessfullyExecutedCode": "short_movie_count = 0\nfor label, row in action_movies.iterrows():\n    if row['duration'] < 90:\n        short_movie_count = short_movie_count + 1\n    else:\n        short_movie_count = short_movie_count\n        \nprint(short_movie_count)",
    "outputsMetadata": {
     "0": {
      "height": 38,
      "type": "stream"
     }
    }
   },
   "outputs": [],
   "source": [
    "short_movie_count = 0\n",
    "for label, row in action_movies.iterrows():\n",
    "    if row['duration'] < 90:\n",
    "        short_movie_count = short_movie_count + 1\n",
    "    else:\n",
    "        short_movie_count = short_movie_count\n",
    "        \n",
    "print(short_movie_count)"
   ]
  },
  {
   "cell_type": "code",
   "execution_count": 11,
   "id": "c08d5406-8e3a-4b4b-b2ac-7c45e8588707",
   "metadata": {
    "executionCancelledAt": null,
    "executionTime": 49,
    "lastExecutedAt": 1721080844378,
    "lastExecutedByKernel": "a9d2fea3-2bc0-47ae-ab1a-1402889d14c8",
    "lastScheduledRunId": null,
    "lastSuccessfullyExecutedCode": "print((action_movies[\"duration\"] < 90).sum())",
    "outputsMetadata": {
     "0": {
      "height": 38,
      "type": "stream"
     }
    }
   },
   "outputs": [
    {
     "name": "stdout",
     "output_type": "stream",
     "text": [
      "7\n"
     ]
    }
   ],
   "source": [
    "print((action_movies[\"duration\"] < 90).sum())"
   ]
  },
  {
   "cell_type": "code",
   "execution_count": null,
   "id": "265f9f13-15ef-4809-a019-719191e3059a",
   "metadata": {},
   "outputs": [],
   "source": []
  }
 ],
 "metadata": {
  "colab": {
   "name": "Welcome to DataCamp Workspaces.ipynb",
   "provenance": []
  },
  "editor": "DataLab",
  "kernelspec": {
   "display_name": "Python 3 (ipykernel)",
   "language": "python",
   "name": "python3"
  },
  "language_info": {
   "codemirror_mode": {
    "name": "ipython",
    "version": 3
   },
   "file_extension": ".py",
   "mimetype": "text/x-python",
   "name": "python",
   "nbconvert_exporter": "python",
   "pygments_lexer": "ipython3",
   "version": "3.11.7"
  }
 },
 "nbformat": 4,
 "nbformat_minor": 5
}
